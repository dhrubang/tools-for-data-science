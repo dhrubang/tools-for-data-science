{
 "cells": [
  {
   "cell_type": "markdown",
   "id": "3151e554",
   "metadata": {},
   "source": [
    "<h1>My Jupyter Notebook on IBM Watson Studio<h1>"
   ]
  },
  {
   "cell_type": "markdown",
   "id": "32a4bdb2",
   "metadata": {},
   "source": [
    "**Name : Dhrubang Talukdar**<br>\n",
    "Desired Occupation : Data Scientist"
   ]
  },
  {
   "cell_type": "markdown",
   "id": "9c7552c5",
   "metadata": {},
   "source": [
    "*I am interested in Data Science because this field requires constant analysis on data to fetch useful insights for a firm.I like to monitor and analyze things and Data Science seems to be a very enthusiastic field and this field is definitely for curious minds like mine.*"
   ]
  },
  {
   "cell_type": "markdown",
   "id": "f53d2f15",
   "metadata": {},
   "source": [
    "<h3>The below code prints \"Hello World\" on screen<h3>"
   ]
  },
  {
   "cell_type": "code",
   "execution_count": 3,
   "id": "5ac07ecc",
   "metadata": {},
   "outputs": [
    {
     "name": "stdout",
     "output_type": "stream",
     "text": [
      "Hello World\n"
     ]
    }
   ],
   "source": [
    "print(\"Hello World\")"
   ]
  },
  {
   "cell_type": "markdown",
   "id": "a6312428",
   "metadata": {},
   "source": [
    "<strike>strike text</strike><br>\n",
    "1. First\n",
    "2. Second\n",
    "3. Third<br>\n",
    "\n",
    "* first\n",
    "* second\n",
    "* third\n"
   ]
  },
  {
   "cell_type": "code",
   "execution_count": null,
   "id": "c5c5a903",
   "metadata": {},
   "outputs": [],
   "source": []
  }
 ],
 "metadata": {
  "kernelspec": {
   "display_name": "Python 3 (ipykernel)",
   "language": "python",
   "name": "python3"
  },
  "language_info": {
   "codemirror_mode": {
    "name": "ipython",
    "version": 3
   },
   "file_extension": ".py",
   "mimetype": "text/x-python",
   "name": "python",
   "nbconvert_exporter": "python",
   "pygments_lexer": "ipython3",
   "version": "3.9.12"
  }
 },
 "nbformat": 4,
 "nbformat_minor": 5
}
